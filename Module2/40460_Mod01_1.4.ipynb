{
 "cells": [
  {
   "cell_type": "markdown",
   "metadata": {
    "slideshow": {
     "slide_type": "slide"
    }
   },
   "source": [
    "# Section 1.4\n",
    "##  Addition and Errors\n",
    "- Python 3 in Jupyter notebooks\n",
    "- `print()`\n",
    "- Comments  \n",
    "- Data types basics\n",
    "- Variables  \n",
    "- **Addition with Strings and Integers**\n",
    "- **Errors**  \n",
    "- Character art  \n",
    "\n",
    "-----\n",
    "\n",
    "### Student will be able to\n",
    "- Use Python 3 in Jupyter notebooks\n",
    "- Write working code using `print()` and `#` comments  \n",
    "- Write working code using `type()` and variables\n",
    "- Combine Strings using string addition (+)\n",
    "- **Add numbers in code (+)**  \n",
    "- **Troubleshoot errors**  \n",
    "- Create character art"
   ]
  },
  {
   "cell_type": "markdown",
   "metadata": {},
   "source": [
    "## Concept: Addition of Numbers and Strings  \n",
    "\n",
    "[[view video]]( http://edxinteractivepage.blob.core.windows.net/edxpages/f7cff1a7-5601-48a1-95a6-fd1fdfabd20e.html?details=[{\"src\":\"http://jupyternootbookwams.streaming.mediaservices.windows.net/a8befa5f-b4a5-4081-87c0-8846be85c719/Unit1_Section1.4-Addition.ism/manifest\",\"type\":\"application/vnd.ms-sstr+xml\"}],[{\"src\":\"http://jupyternootbookwams.streaming.mediaservices.windows.net/a8befa5f-b4a5-4081-87c0-8846be85c719/Unit1_Section1.4-Addition.vtt\",\"srclang\":\"en\",\"kind\":\"subtitles\",\"label\":\"english\"}])\n",
    "\n",
    "### Numeric addition\n",
    "**Numeric addition:** Single line *math equations*, run in a code cell, will output a sum. \n",
    "```Python\n",
    "# Adding a pair of single digit Integers\n",
    "3 + 5  \n",
    "```  \n",
    "### String addition\n",
    "**String addition:** Single line *equations*, run in a code cell, will output a single concatenated string.  \n",
    "> **Tip:** all strings must be in quotes  \n",
    "    \n",
    "```Python\n",
    "# Adding a pair of strings\n",
    "\"I wear \" + \"a hat\"  \n",
    "```  \n",
    "We can also **add variables** as long as we add strings to strings and numbers to numbers."
   ]
  },
  {
   "cell_type": "markdown",
   "metadata": {},
   "source": [
    "### Examples: String and Number Addition"
   ]
  },
  {
   "cell_type": "code",
   "execution_count": 1,
   "metadata": {},
   "outputs": [
    {
     "data": {
      "text/plain": [
       "41"
      ]
     },
     "execution_count": 1,
     "metadata": {},
     "output_type": "execute_result"
    }
   ],
   "source": [
    "# [ ] Review and run code for adding a pair of 2 digit Integers\n",
    "23 + 18"
   ]
  },
  {
   "cell_type": "code",
   "execution_count": 2,
   "metadata": {},
   "outputs": [
    {
     "data": {
      "text/plain": [
       "'my name is Alyssa'"
      ]
     },
     "execution_count": 2,
     "metadata": {},
     "output_type": "execute_result"
    }
   ],
   "source": [
    "# [ ] Review and run code for adding 2 strings\n",
    "\"my name is \" + \"Alyssa\"  "
   ]
  },
  {
   "cell_type": "code",
   "execution_count": 3,
   "metadata": {},
   "outputs": [
    {
     "data": {
      "text/plain": [
       "'my shoe color is brown'"
      ]
     },
     "execution_count": 3,
     "metadata": {},
     "output_type": "execute_result"
    }
   ],
   "source": [
    "# [ ] Review and run code for adding a variable string and a literal string\n",
    "shoe_color = \"brown\"\n",
    "\"my shoe color is \" + shoe_color"
   ]
  },
  {
   "cell_type": "markdown",
   "metadata": {},
   "source": [
    "## Task 1 (multi-part): String and Number Addition"
   ]
  },
  {
   "cell_type": "code",
   "execution_count": 4,
   "metadata": {},
   "outputs": [
    {
     "data": {
      "text/plain": [
       "6"
      ]
     },
     "execution_count": 4,
     "metadata": {},
     "output_type": "execute_result"
    }
   ],
   "source": [
    "# [ ] add 3 integer numbers\n",
    "1+2+3\n"
   ]
  },
  {
   "cell_type": "code",
   "execution_count": 5,
   "metadata": {},
   "outputs": [
    {
     "data": {
      "text/plain": [
       "3.2"
      ]
     },
     "execution_count": 5,
     "metadata": {},
     "output_type": "execute_result"
    }
   ],
   "source": [
    "# [ ] add a float number and an integer number\n",
    "1.2+2\n",
    "\n"
   ]
  },
  {
   "cell_type": "code",
   "execution_count": 6,
   "metadata": {},
   "outputs": [
    {
     "data": {
      "text/plain": [
       "'This notebook belongs to Edward'"
      ]
     },
     "execution_count": 6,
     "metadata": {},
     "output_type": "execute_result"
    }
   ],
   "source": [
    "# [ ] Add the string \"This notebook belongs to \" and a string with your first name\n",
    "\"This notebook belongs to \" + \"Edward\"\n"
   ]
  },
  {
   "cell_type": "code",
   "execution_count": 7,
   "metadata": {},
   "outputs": [
    {
     "data": {
      "text/plain": [
       "6"
      ]
     },
     "execution_count": 7,
     "metadata": {},
     "output_type": "execute_result"
    }
   ],
   "source": [
    "# [ ] Create variables sm_number and big_number and assign numbers then add the numbers\n",
    "sm_number = 2\n",
    "big_number = 4\n",
    "sm_number + big_number"
   ]
  },
  {
   "cell_type": "code",
   "execution_count": 8,
   "metadata": {},
   "outputs": [
    {
     "data": {
      "text/plain": [
       "'Edward, remember to save the notebook frequently'"
      ]
     },
     "execution_count": 8,
     "metadata": {},
     "output_type": "execute_result"
    }
   ],
   "source": [
    "# [ ] assign a string value to the variable first_name and add to the string \", remember to save the notebook frequently\"\n",
    "first_name = \"Edward\"\n",
    "first_name + \", remember to save the notebook frequently\"\n"
   ]
  },
  {
   "cell_type": "markdown",
   "metadata": {},
   "source": [
    "## Concept: Use Addition in Variable Assignments  \n",
    "It is common to store the results of addition in a variable.  \n",
    "\n",
    "[[view video]]( http://edxinteractivepage.blob.core.windows.net/edxpages/f7cff1a7-5601-48a1-95a6-fd1fdfabd20e.html?details=[{\"src\":\"http://jupyternootbookwams.streaming.mediaservices.windows.net/48aefdf7-8f2f-4080-97e9-c25477f71248/Unit1_Section1.4-Assignment.ism/manifest\",\"type\":\"application/vnd.ms-sstr+xml\"}],[{\"src\":\"http://jupyternootbookwams.streaming.mediaservices.windows.net/48aefdf7-8f2f-4080-97e9-c25477f71248/Unit1_Section1.4-Assignment.vtt\",\"srclang\":\"en\",\"kind\":\"subtitles\",\"label\":\"english\"}])\n",
    "\n",
    "### Use addition in `print ()`   \n",
    "Use **`print()`** to show the results of multiple lines of output.  \n",
    " "
   ]
  },
  {
   "cell_type": "markdown",
   "metadata": {},
   "source": [
    "### Examples: Addition in variable assignments and in `print()`"
   ]
  },
  {
   "cell_type": "code",
   "execution_count": 9,
   "metadata": {},
   "outputs": [
    {
     "name": "stdout",
     "output_type": "stream",
     "text": [
      "50\n",
      "Happy Birthday Alton\n"
     ]
    }
   ],
   "source": [
    "# [ ] review & run code for assigning variables & using addition\n",
    "add_two = 34 + 16\n",
    "first_name = \"Alton\"\n",
    "greeting = \"Happy Birthday \" + first_name\n",
    "\n",
    "print(add_two)\n",
    "print(greeting)"
   ]
  },
  {
   "cell_type": "code",
   "execution_count": 10,
   "metadata": {},
   "outputs": [
    {
     "name": "stdout",
     "output_type": "stream",
     "text": [
      "13\n",
      "26\n",
      "\n"
     ]
    }
   ],
   "source": [
    "#  [ ] review & run code for Integer addition in variables and in a print function\n",
    "int_sum = 6 + 7\n",
    "print(int_sum)\n",
    "print(11 + 15)\n",
    "print()"
   ]
  },
  {
   "cell_type": "code",
   "execution_count": 11,
   "metadata": {},
   "outputs": [
    {
     "name": "stdout",
     "output_type": "stream",
     "text": [
      "I do not wear a hat\n",
      "at dinner\n"
     ]
    }
   ],
   "source": [
    "# string addition in variables and in print()function\n",
    "hat_msg = \"I do not wear \" + \"a hat\"  \n",
    "print(hat_msg)\n",
    "print(\"at \" + \"dinner\")"
   ]
  },
  {
   "cell_type": "markdown",
   "metadata": {},
   "source": [
    "## Task 2 (multi-part): Create integer addition and string addition output"
   ]
  },
  {
   "cell_type": "code",
   "execution_count": 12,
   "metadata": {},
   "outputs": [
    {
     "name": "stdout",
     "output_type": "stream",
     "text": [
      "My favorite food is burger!\n"
     ]
    }
   ],
   "source": [
    "# [ ] perform string addition in the variable named new_msg (add a string to \"my favorite food is \")\n",
    "new_msg = \"My favorite food is\" + \" burger!\"\n",
    "print(new_msg)\n",
    "\n"
   ]
  },
  {
   "cell_type": "code",
   "execution_count": 13,
   "metadata": {},
   "outputs": [
    {
     "name": "stdout",
     "output_type": "stream",
     "text": [
      "5\n"
     ]
    }
   ],
   "source": [
    "# [ ] perform Integer addition in the variable named new_msg (add 2 or more Integers)\n",
    "new_sum =   0 + 2 + 3\n",
    "print(new_sum)\n"
   ]
  },
  {
   "cell_type": "code",
   "execution_count": 17,
   "metadata": {},
   "outputs": [
    {
     "name": "stdout",
     "output_type": "stream",
     "text": [
      "Hello, Doggie\n"
     ]
    }
   ],
   "source": [
    "# [ ] create and print a new string variable, new_msg_2, that concatenates new_msg + a literal string\n",
    "new_msg = \"Hello, \"\n",
    "new_msg2 = new_msg + \"Doggie\"\n",
    "print(new_msg2)"
   ]
  },
  {
   "cell_type": "markdown",
   "metadata": {},
   "source": [
    "## Concept: Errors!\n",
    "Encountering and troubleshooting errors are fundamental parts of computer programming.\n",
    "\n",
    "[[view video]]( http://edxinteractivepage.blob.core.windows.net/edxpages/f7cff1a7-5601-48a1-95a6-fd1fdfabd20e.html?details=[{\"src\":\"http://jupyternootbookwams.streaming.mediaservices.windows.net/7ab2739a-95e6-4399-9b84-19ac5698bbea/Unit1_Section1.4-TypeError.ism/manifest\",\"type\":\"application/vnd.ms-sstr+xml\"}],[{\"src\":\"http://jupyternootbookwams.streaming.mediaservices.windows.net/7ab2739a-95e6-4399-9b84-19ac5698bbea/Unit1_Section1.4-TypeError.vtt\",\"srclang\":\"en\",\"kind\":\"subtitles\",\"label\":\"english\"}])"
   ]
  },
  {
   "cell_type": "markdown",
   "metadata": {},
   "source": [
    "### Examples"
   ]
  },
  {
   "cell_type": "code",
   "execution_count": 18,
   "metadata": {},
   "outputs": [
    {
     "name": "stdout",
     "output_type": "stream",
     "text": [
      "my number is 123\n"
     ]
    },
    {
     "ename": "TypeError",
     "evalue": "can only concatenate str (not \"int\") to str",
     "output_type": "error",
     "traceback": [
      "\u001b[1;31m---------------------------------------------------------------------------\u001b[0m",
      "\u001b[1;31mTypeError\u001b[0m                                 Traceback (most recent call last)",
      "\u001b[1;32mC:\\Users\\MRDIVI~1\\AppData\\Local\\Temp/ipykernel_10396/4089435695.py\u001b[0m in \u001b[0;36m<module>\u001b[1;34m\u001b[0m\n\u001b[0;32m      1\u001b[0m \u001b[1;31m# [ ] Review & run code\u001b[0m\u001b[1;33m\u001b[0m\u001b[1;33m\u001b[0m\u001b[0m\n\u001b[0;32m      2\u001b[0m \u001b[0mprint\u001b[0m\u001b[1;33m(\u001b[0m\u001b[1;34m\"my number is \"\u001b[0m \u001b[1;33m+\u001b[0m \u001b[1;34m\"123\"\u001b[0m\u001b[1;33m)\u001b[0m \u001b[1;31m#string, represents a text character\u001b[0m\u001b[1;33m\u001b[0m\u001b[1;33m\u001b[0m\u001b[0m\n\u001b[1;32m----> 3\u001b[1;33m \u001b[0mprint\u001b[0m\u001b[1;33m(\u001b[0m\u001b[1;34m\"my number is \"\u001b[0m \u001b[1;33m+\u001b[0m \u001b[1;36m123\u001b[0m\u001b[1;33m)\u001b[0m \u001b[1;31m#number, with numeric value\u001b[0m\u001b[1;33m\u001b[0m\u001b[1;33m\u001b[0m\u001b[0m\n\u001b[0m",
      "\u001b[1;31mTypeError\u001b[0m: can only concatenate str (not \"int\") to str"
     ]
    }
   ],
   "source": [
    "# [ ] Review & run code\n",
    "print(\"my number is \" + \"123\") #string, represents a text character\n",
    "print(\"my number is \" + 123) #number, with numeric value "
   ]
  },
  {
   "cell_type": "markdown",
   "metadata": {},
   "source": [
    "#### TypeError\n",
    "The line&nbsp; **`print(\"my number is \" + 123)`** causes the **`TypeError`** message to appear.  \n",
    ">`TypeError: Can't convert 'int' object to str implicitly`  \n",
    "\n",
    "When adding to the string&nbsp; `\"my number is \"`&nbsp; the compiler is experiencing another string, but finds a number ***`123`**.  \n",
    "\n",
    "Python cannot convert the Integer &nbsp; `123`&nbsp; to a string without explicit instruction (in code). \n",
    "  \n",
    "In other words, Python only allows combining *like types*.\n",
    "- **`str`** + **`str`**\n",
    "- **`int`** + **`int`**\n"
   ]
  },
  {
   "cell_type": "markdown",
   "metadata": {},
   "source": [
    "\n",
    "## Task 3: Fix `TypeError` \n",
    "- Review the code in the cells below and then run the code\n",
    "- Fix any errors and run until the code no longer shows errors"
   ]
  },
  {
   "cell_type": "code",
   "execution_count": 19,
   "metadata": {},
   "outputs": [
    {
     "name": "stdout",
     "output_type": "stream",
     "text": [
      "48\n"
     ]
    }
   ],
   "source": [
    "# [ ] Review and run the code - then fix any Errors\n",
    "total_cost = 3 + 45\n",
    "print(total_cost)\n",
    "\n"
   ]
  },
  {
   "cell_type": "code",
   "execution_count": 20,
   "metadata": {},
   "outputs": [
    {
     "name": "stdout",
     "output_type": "stream",
     "text": [
      "the street number of Central School is 123\n"
     ]
    }
   ],
   "source": [
    "# [ ] Review and run the code - then fix any Errors\n",
    "school_num = \"123\"\n",
    "print(\"the street number of Central School is \" + school_num)\n",
    "\n"
   ]
  },
  {
   "cell_type": "code",
   "execution_count": 22,
   "metadata": {},
   "outputs": [
    {
     "name": "stdout",
     "output_type": "stream",
     "text": [
      "<class 'float'>\n",
      "<class 'int'>\n",
      "6.3\n"
     ]
    }
   ],
   "source": [
    "# [ ] Read and run the code - write a hypothesis for what you observe adding float + int\n",
    "#  [ ] HYPOTHESIS: The code runs as expected, printing the types of data then adding the float and int values together into a float value\n",
    "\n",
    "print(type(3.3))\n",
    "print(type(3))\n",
    "print(3.3 + 3)\n",
    "\n"
   ]
  },
  {
   "cell_type": "markdown",
   "metadata": {},
   "source": [
    "## Concept: More Errors\n",
    "### SyntaxError & NameError\n",
    "- **SyntaxError** - breaks code formatting rules of Python\n",
    "- **NameError** - object is not defined (can't be found)  \n",
    "\n",
    "Python has a specific grammar that it follows that is referred to as **syntax**.  \n",
    "The print function syntax rules for output of a single string include: \n",
    "- Parentheses **` ( ) `** containing a **string** follow **`print`** (SyntaxError)\n",
    "- Strings have **matching quotation marks** (SyntaxError)\n",
    "- `print` is lowercase and correctly spelled (NameError)\n",
    "\n",
    "Failure to follow any of these rules results in a `SyntaxError` or `NameError` when the code is run.  "
   ]
  },
  {
   "cell_type": "markdown",
   "metadata": {},
   "source": [
    "## SyntaxError\n",
    "[[view video]]( http://edxinteractivepage.blob.core.windows.net/edxpages/f7cff1a7-5601-48a1-95a6-fd1fdfabd20e.html?details=[{\"src\":\"http://jupyternootbookwams.streaming.mediaservices.windows.net/1a1cd6c0-793f-4bcb-a0a0-c9f95a302142/Unit1_Section1.4-SyntaxNameErrors.ism/manifest\",\"type\":\"application/vnd.ms-sstr+xml\"}],[{\"src\":\"http://jupyternootbookwams.streaming.mediaservices.windows.net/1a1cd6c0-793f-4bcb-a0a0-c9f95a302142/Unit1_Section1.4-SyntaxNameErrors.vtt\",\"srclang\":\"en\",\"kind\":\"subtitles\",\"label\":\"english\"}])\n",
    "- Improperly formatted string (quotes don't match) that results in a SyntaxError"
   ]
  },
  {
   "cell_type": "markdown",
   "metadata": {},
   "source": [
    "### Examples"
   ]
  },
  {
   "cell_type": "code",
   "execution_count": 23,
   "metadata": {},
   "outputs": [
    {
     "ename": "SyntaxError",
     "evalue": "EOL while scanning string literal (Temp/ipykernel_10396/3910474205.py, line 4)",
     "output_type": "error",
     "traceback": [
      "\u001b[1;36m  File \u001b[1;32m\"C:\\Users\\MRDIVI~1\\AppData\\Local\\Temp/ipykernel_10396/3910474205.py\"\u001b[1;36m, line \u001b[1;32m4\u001b[0m\n\u001b[1;33m    print('I like the morning\")\u001b[0m\n\u001b[1;37m                                ^\u001b[0m\n\u001b[1;31mSyntaxError\u001b[0m\u001b[1;31m:\u001b[0m EOL while scanning string literal\n"
     ]
    }
   ],
   "source": [
    "# [ ] Review and run the code for properly and improperly formatted print statement\n",
    "print(\"Hi!\")\n",
    "## improper format - non matching quotes\n",
    "print('I like the morning\") "
   ]
  },
  {
   "cell_type": "markdown",
   "metadata": {},
   "source": [
    "- Note the misspelling below, \"`prin`\", results in a NameError"
   ]
  },
  {
   "cell_type": "code",
   "execution_count": 24,
   "metadata": {},
   "outputs": [
    {
     "ename": "NameError",
     "evalue": "name 'prin' is not defined",
     "output_type": "error",
     "traceback": [
      "\u001b[1;31m---------------------------------------------------------------------------\u001b[0m",
      "\u001b[1;31mNameError\u001b[0m                                 Traceback (most recent call last)",
      "\u001b[1;32mC:\\Users\\MRDIVI~1\\AppData\\Local\\Temp/ipykernel_10396/4128920836.py\u001b[0m in \u001b[0;36m<module>\u001b[1;34m\u001b[0m\n\u001b[0;32m      1\u001b[0m \u001b[1;31m# [ ] Review and run the code\u001b[0m\u001b[1;33m\u001b[0m\u001b[1;33m\u001b[0m\u001b[0m\n\u001b[1;32m----> 2\u001b[1;33m \u001b[0mprin\u001b[0m\u001b[1;33m(\u001b[0m\u001b[1;34m'hi'\u001b[0m\u001b[1;33m)\u001b[0m\u001b[1;33m\u001b[0m\u001b[1;33m\u001b[0m\u001b[0m\n\u001b[0m",
      "\u001b[1;31mNameError\u001b[0m: name 'prin' is not defined"
     ]
    }
   ],
   "source": [
    "# [ ] Review and run the code \n",
    "prin('hi')"
   ]
  },
  {
   "cell_type": "markdown",
   "metadata": {},
   "source": [
    "- EOF = \"end of file\" found in code below\n",
    "- Python went to the end of the file looking for, but not finding, a closing parenthesis "
   ]
  },
  {
   "cell_type": "code",
   "execution_count": 25,
   "metadata": {},
   "outputs": [
    {
     "ename": "SyntaxError",
     "evalue": "unexpected EOF while parsing (Temp/ipykernel_10396/2528861841.py, line 2)",
     "output_type": "error",
     "traceback": [
      "\u001b[1;36m  File \u001b[1;32m\"C:\\Users\\MRDIVI~1\\AppData\\Local\\Temp/ipykernel_10396/2528861841.py\"\u001b[1;36m, line \u001b[1;32m2\u001b[0m\n\u001b[1;33m    print(\"where are my socks?\"\u001b[0m\n\u001b[1;37m                                ^\u001b[0m\n\u001b[1;31mSyntaxError\u001b[0m\u001b[1;31m:\u001b[0m unexpected EOF while parsing\n"
     ]
    }
   ],
   "source": [
    "# [ ] Review and run the code missing the closing parenthesis  \n",
    "print(\"where are my socks?\" "
   ]
  },
  {
   "cell_type": "markdown",
   "metadata": {},
   "source": [
    "- In the code below: a parenthesis inside quotations will be seen a part of a string and not as a parenthesis"
   ]
  },
  {
   "cell_type": "code",
   "execution_count": null,
   "metadata": {},
   "outputs": [],
   "source": [
    "# { ] Review and run the code \n",
    "print(\"my socks are in the wrong bin)\" "
   ]
  },
  {
   "cell_type": "markdown",
   "metadata": {},
   "source": [
    "## Task 4: Fix Errors"
   ]
  },
  {
   "cell_type": "markdown",
   "metadata": {},
   "source": [
    ">**Tip**: explaining errors to a partner often reveals a solution (works even if explaining error to a pencil). "
   ]
  },
  {
   "cell_type": "code",
   "execution_count": 26,
   "metadata": {},
   "outputs": [
    {
     "name": "stdout",
     "output_type": "stream",
     "text": [
      "my socks do not match\n"
     ]
    }
   ],
   "source": [
    "# [ ] Repair the syntax error \n",
    "print(\"my socks do not match\") \n",
    "      \n"
   ]
  },
  {
   "cell_type": "code",
   "execution_count": 27,
   "metadata": {},
   "outputs": [
    {
     "name": "stdout",
     "output_type": "stream",
     "text": [
      "my socks match now\n"
     ]
    }
   ],
   "source": [
    "# [ ] Repair the NameError  \n",
    "print(\"my socks match now\") \n",
    "\n"
   ]
  },
  {
   "cell_type": "code",
   "execution_count": 29,
   "metadata": {},
   "outputs": [
    {
     "name": "stdout",
     "output_type": "stream",
     "text": [
      "Save the notebook frequently\n"
     ]
    }
   ],
   "source": [
    "# [ ] Repair the syntax error \n",
    "print(\"Save the notebook frequently\")\n",
    "\n"
   ]
  },
  {
   "cell_type": "code",
   "execution_count": 30,
   "metadata": {},
   "outputs": [
    {
     "name": "stdout",
     "output_type": "stream",
     "text": [
      "Alton\n"
     ]
    }
   ],
   "source": [
    "# [ ] Repair the NameError \n",
    "student_name = \"Alton\"\n",
    "print(student_name)\n",
    "\n"
   ]
  },
  {
   "cell_type": "code",
   "execution_count": 31,
   "metadata": {},
   "outputs": [
    {
     "name": "stdout",
     "output_type": "stream",
     "text": [
      "3 students are signed up for tutoring\n"
     ]
    }
   ],
   "source": [
    "# [ ] Repair the TypeError\n",
    "total = \"3\"\n",
    "print(total + \" students are signed up for tutoring\")\n",
    "\n"
   ]
  },
  {
   "cell_type": "markdown",
   "metadata": {},
   "source": [
    "A parenthesis inside quotations will be seen a part of a string and not as a parenthesis."
   ]
  },
  {
   "cell_type": "markdown",
   "metadata": {},
   "source": [
    "[Terms of use](http://go.microsoft.com/fwlink/?LinkID=206977) &nbsp; [Privacy & cookies](https://go.microsoft.com/fwlink/?LinkId=521839) &nbsp; © 2017 Microsoft"
   ]
  }
 ],
 "metadata": {
  "anaconda-cloud": {},
  "kernelspec": {
   "display_name": "Python 3 (ipykernel)",
   "language": "python",
   "name": "python3"
  },
  "language_info": {
   "codemirror_mode": {
    "name": "ipython",
    "version": 3
   },
   "file_extension": ".py",
   "mimetype": "text/x-python",
   "name": "python",
   "nbconvert_exporter": "python",
   "pygments_lexer": "ipython3",
   "version": "3.9.7"
  }
 },
 "nbformat": 4,
 "nbformat_minor": 1
}
