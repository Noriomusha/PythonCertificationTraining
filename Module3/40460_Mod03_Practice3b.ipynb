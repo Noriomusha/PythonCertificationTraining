{
 "cells": [
  {
   "cell_type": "markdown",
   "metadata": {},
   "source": [
    "# Lab 3b  \n",
    "## Conditionals, Type, and Mathematics Extended   \n",
    "\n",
    "-----\n",
    "\n",
    "### Student will be able to\n",
    "- Code more than two choices using **`elif`**\n",
    "- Gather numeric input using type casting\n",
    "- Perform subtraction, multiplication and division operations in code  "
   ]
  },
  {
   "cell_type": "markdown",
   "metadata": {},
   "source": [
    "## Tasks"
   ]
  },
  {
   "cell_type": "markdown",
   "metadata": {},
   "source": [
    "### Rainbow colors\n",
    "Ask for input of a favorite rainbow color first letter: ROYGBIV.\n",
    "\n",
    "Using `if`, `elif`, and `else`:  \n",
    "- Print the color matching the letter  \n",
    "    - R = Red  \n",
    "    - O = Orange  \n",
    "    - Y = Yellow  \n",
    "    - G = Green\n",
    "    - B = Blue\n",
    "    - I = Indigo\n",
    "    - V = Violet\n",
    "    - Else print \"no match\"\n"
   ]
  },
  {
   "cell_type": "code",
   "execution_count": 4,
   "metadata": {
    "scrolled": false
   },
   "outputs": [
    {
     "name": "stdout",
     "output_type": "stream",
     "text": [
      "What is your favorite color of the rainbow? Choose a letter from ROYGBIV. 1\n",
      "No match\n"
     ]
    }
   ],
   "source": [
    "# [ ] complete rainbow colors\n",
    "\n",
    "favorite_color = input(\"What is your favorite color of the rainbow? Choose a letter from ROYGBIV. \").upper()\n",
    "\n",
    "\n",
    "if favorite_color == \"R\": \n",
    "    print(\"Red is a great color!\")\n",
    "elif favorite_color == \"O\": \n",
    "    print(\"Orange is a great color!\")\n",
    "elif favorite_color == \"Y\": \n",
    "    print(\"Yellow is a great color!\")\n",
    "elif favorite_color == \"G\": \n",
    "    print(\"Green is a great color!\")\n",
    "elif favorite_color == \"B\": \n",
    "    print(\"Blue is a great color!\")\n",
    "elif favorite_color == \"I\": \n",
    "    print(\"Indigo is a great color!\")\n",
    "elif favorite_color == \"V\": \n",
    "    print(\"Violet is a great color!\")\n",
    "else:\n",
    "    print(\"No match\")\n",
    "\n",
    "\n",
    "\n"
   ]
  },
  {
   "cell_type": "code",
   "execution_count": 8,
   "metadata": {},
   "outputs": [
    {
     "name": "stdout",
     "output_type": "stream",
     "text": [
      "What is your favorite color of the rainbow? Choose a letter from ROYGBIV. y\n",
      "Yellow is a great color!\n"
     ]
    },
    {
     "data": {
      "text/plain": [
       "'Y'"
      ]
     },
     "execution_count": 8,
     "metadata": {},
     "output_type": "execute_result"
    }
   ],
   "source": [
    "# [ ] make the code above into a function rainbow_color() that has a string parameter, \n",
    "# get input and call the function and return the \n",
    "\n",
    "def rainbow_color(favorite_color):\n",
    "    favorite_color = input(\"What is your favorite color of the rainbow? Choose a letter from ROYGBIV. \").upper()\n",
    "    if favorite_color == \"R\": \n",
    "        print(\"Red is a great color!\")\n",
    "    elif favorite_color == \"O\": \n",
    "        print(\"Orange is a great color!\")\n",
    "    elif favorite_color == \"Y\": \n",
    "        print(\"Yellow is a great color!\")\n",
    "    elif favorite_color == \"G\": \n",
    "        print(\"Green is a great color!\")\n",
    "    elif favorite_color == \"B\": \n",
    "        print(\"Blue is a great color!\")\n",
    "    elif favorite_color == \"I\": \n",
    "        print(\"Indigo is a great color!\")\n",
    "    elif favorite_color == \"V\": \n",
    "        print(\"Violet is a great color!\")\n",
    "    else:\n",
    "        print(\"No match\")\n",
    "    return favorite_color\n",
    "\n",
    "\n",
    "rainbow_color(favorite_color)\n",
    "    \n",
    "    \n",
    "\n",
    "\n",
    "\n"
   ]
  },
  {
   "cell_type": "markdown",
   "metadata": {},
   "source": [
    "# &nbsp;  \n",
    "**Create function age_20() that adds or subtracts 20 from your age for a return value based on current age** (use `if`) \n",
    "- Call the function with user input and then use the return value in a sentence  \n",
    "Example `age_20(25)` returns **5**: \n",
    "> \"5 years old, 20 years difference from now\""
   ]
  },
  {
   "cell_type": "code",
   "execution_count": null,
   "metadata": {},
   "outputs": [],
   "source": [
    "# [ ] complete age_20()\n",
    "\n"
   ]
  },
  {
   "cell_type": "markdown",
   "metadata": {},
   "source": [
    "**Create a function rainbow_or_age that takes a string argument**\n",
    "- If argument is a digit return the value of calling age_20() with the str value cast as **`int`** \n",
    "- If argument is an alphabetical character return the value of calling rainbow_color() with the str\n",
    "- If neither return FALSE"
   ]
  },
  {
   "cell_type": "code",
   "execution_count": null,
   "metadata": {},
   "outputs": [],
   "source": [
    "# [ ]  create rainbow_or_age()\n",
    "\n"
   ]
  },
  {
   "cell_type": "code",
   "execution_count": null,
   "metadata": {},
   "outputs": [],
   "source": [
    "# [ ]  add 2 numbers from input using a cast to integer and display the answer \n",
    "\n"
   ]
  },
  {
   "cell_type": "code",
   "execution_count": null,
   "metadata": {},
   "outputs": [],
   "source": [
    "# [ ] Multiply 2 numbers from input using cast and save the answer as part of a string \"the answer is...\"\n",
    "# display the string using print\n",
    "\n"
   ]
  },
  {
   "cell_type": "code",
   "execution_count": null,
   "metadata": {},
   "outputs": [],
   "source": [
    "# [ ] get input of 2 numbers and display the average: (num1 + num2) divided by 2\n",
    "\n"
   ]
  },
  {
   "cell_type": "code",
   "execution_count": null,
   "metadata": {},
   "outputs": [],
   "source": [
    "# [ ] get input of 2 numbers and subtract the largest from the smallest (use an if statement to see which is larger)\n",
    "# show the answer\n",
    "\n"
   ]
  },
  {
   "cell_type": "code",
   "execution_count": null,
   "metadata": {},
   "outputs": [],
   "source": [
    "# [ ] Divide a larger number by a smaller number and print the integer part of the result\n",
    "# don't divide by zero! if a zero is input make the result zero\n",
    "# [ ] cast the answer to an integer to cut off the decimals and print the result\n",
    "\n"
   ]
  },
  {
   "cell_type": "markdown",
   "metadata": {},
   "source": [
    "[Terms of use](http://go.microsoft.com/fwlink/?LinkID=206977) &nbsp; [Privacy & cookies](https://go.microsoft.com/fwlink/?LinkId=521839) &nbsp; © 2017 Microsoft"
   ]
  }
 ],
 "metadata": {
  "anaconda-cloud": {},
  "kernelspec": {
   "display_name": "Python 3 (ipykernel)",
   "language": "python",
   "name": "python3"
  },
  "language_info": {
   "codemirror_mode": {
    "name": "ipython",
    "version": 3
   },
   "file_extension": ".py",
   "mimetype": "text/x-python",
   "name": "python",
   "nbconvert_exporter": "python",
   "pygments_lexer": "ipython3",
   "version": "3.9.7"
  }
 },
 "nbformat": 4,
 "nbformat_minor": 1
}
