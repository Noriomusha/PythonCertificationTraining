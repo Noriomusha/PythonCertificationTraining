{
 "cells": [
  {
   "cell_type": "markdown",
   "metadata": {},
   "source": [
    "# Lab 3a\n",
    "## Conditionals Practice\n",
    "\n",
    "-----\n",
    "\n",
    "### Student will be able to\n",
    "- **Control code flow with `if`... `else` conditional logic**  \n",
    "  - Using Boolean string methods (`.isupper(), .isalpha(), startswith()...`)  \n",
    "  - Using comparision (`>, <, >=, <=, ==, !=`)  \n",
    "  - Using Strings in comparisons  "
   ]
  },
  {
   "cell_type": "markdown",
   "metadata": {},
   "source": [
    "## `if else`\n"
   ]
  },
  {
   "cell_type": "code",
   "execution_count": 2,
   "metadata": {},
   "outputs": [
    {
     "name": "stdout",
     "output_type": "stream",
     "text": [
      "What is your age? 22\n",
      "In 10 years you'll be 32 years old!\n"
     ]
    }
   ],
   "source": [
    "# [ ] input avariable: age as digit and cast to int\n",
    "# if age greater than or equal to 12 then print message on age in 10 years \n",
    "# or else print message \"It is good to be\" age\n",
    "\n",
    "age = int(input(\"What is your age? \"))\n",
    "\n",
    "if age >= 12:\n",
    "    print(\"In 10 years you'll be\", age + 10, \"years old!\")\n",
    "else:\n",
    "    print(\"It is good to be\", age)\n",
    "    \n",
    "\n"
   ]
  },
  {
   "cell_type": "code",
   "execution_count": 5,
   "metadata": {},
   "outputs": [
    {
     "name": "stdout",
     "output_type": "stream",
     "text": [
      "Please enter a number: 102\n",
      "102 is greater than 100\n"
     ]
    }
   ],
   "source": [
    "# [ ] input a number \n",
    "# - if number is NOT a digit cast to int\n",
    "# - print number \"greater than 100 is\" True/False\n",
    "\n",
    "number = input(\"Please enter a number: \")\n",
    "if number.isdigit() == False:\n",
    "    number = int(number)\n",
    "    \n",
    "if int(number) > 100:\n",
    "    print(number, \"is greater than 100\")\n",
    "else:\n",
    "    print(number, \"is less than 100\")\n",
    "\n"
   ]
  },
  {
   "cell_type": "markdown",
   "metadata": {},
   "source": [
    "### Guessing a letter A-Z  \n",
    "**check_guess()** takes two string arguments: **letter and guess** (both expect single alphabetical character)   \n",
    "    - If guess is not an alpha character print invalid and return False\n",
    "    - Test and print if guess is \"high\" or \"low\" and return False\n",
    "    - Test and print if guess is \"correct\" and return True"
   ]
  },
  {
   "cell_type": "code",
   "execution_count": 11,
   "metadata": {},
   "outputs": [
    {
     "name": "stdout",
     "output_type": "stream",
     "text": [
      "Guess the letter: l\n",
      "Too high\n"
     ]
    },
    {
     "data": {
      "text/plain": [
       "False"
      ]
     },
     "execution_count": 11,
     "metadata": {},
     "output_type": "execute_result"
    }
   ],
   "source": [
    "# [ ] create check_guess()\n",
    "# call with test\n",
    "\n",
    "letter = \"g\"\n",
    "guess = \"p\"\n",
    "def check_guess(letter, guess):\n",
    "    letter = \"g\"\n",
    "    guess = input(\"Guess the letter: \").lower()\n",
    "    if guess.isalpha() == False:\n",
    "        print(\"Invalid response\")\n",
    "        return False\n",
    "    elif guess == letter:\n",
    "        print(\"Correct!\")\n",
    "        return True\n",
    "    elif guess > letter:\n",
    "        print(\"Too high\")\n",
    "        return False\n",
    "    elif guess < letter:\n",
    "        print(\"Too low\")\n",
    "        return False\n",
    "    \n",
    "check_guess(letter, guess)\n",
    "\n"
   ]
  },
  {
   "cell_type": "code",
   "execution_count": null,
   "metadata": {},
   "outputs": [],
   "source": [
    "# [ ] call check_guess with user input\n",
    "\n"
   ]
  },
  {
   "cell_type": "markdown",
   "metadata": {},
   "source": [
    "### Letter Guess\n",
    "**Create letter_guess() function that gives the user three guesses**\n",
    "- Take a letter character argument for the answer letter\n",
    "- Get user input for letter guess  \n",
    "- Call check_guess() with answer and guess\n",
    "- End letter_guess if \n",
    "    - check_guess() equals True, return True  \n",
    "    - or after 3 failed attempts, return False"
   ]
  },
  {
   "cell_type": "code",
   "execution_count": null,
   "metadata": {},
   "outputs": [],
   "source": [
    "# [ ] create letter_guess() function, call the function to test\n",
    "\n",
    "\n"
   ]
  },
  {
   "cell_type": "markdown",
   "metadata": {},
   "source": [
    "### Pet Conversation\n",
    "**Ask the user for a sentence about a pet and then reply**  \n",
    "- Get user input in variable: about_pet\n",
    "- Using a series of **if** statements, respond with appropriate conversation\n",
    "  - Check if \"dog\" is in the string about_pet (sample reply \"Ah, a dog\")\n",
    "  - Check if \"cat\" is in the string about_pet\n",
    "  - Check if 1 or more animal is in string about_pet\n",
    "- No need for **else**'s\n",
    "- Finish by thanking for the story"
   ]
  },
  {
   "cell_type": "code",
   "execution_count": null,
   "metadata": {},
   "outputs": [],
   "source": [
    "# [ ] complete pet conversation\n",
    "\n"
   ]
  },
  {
   "cell_type": "markdown",
   "metadata": {
    "collapsed": true
   },
   "source": [
    "[Terms of use](http://go.microsoft.com/fwlink/?LinkID=206977) &nbsp; [Privacy & cookies](https://go.microsoft.com/fwlink/?LinkId=521839) &nbsp; © 2017 Microsoft"
   ]
  }
 ],
 "metadata": {
  "anaconda-cloud": {},
  "kernelspec": {
   "display_name": "Python 3 (ipykernel)",
   "language": "python",
   "name": "python3"
  },
  "language_info": {
   "codemirror_mode": {
    "name": "ipython",
    "version": 3
   },
   "file_extension": ".py",
   "mimetype": "text/x-python",
   "name": "python",
   "nbconvert_exporter": "python",
   "pygments_lexer": "ipython3",
   "version": "3.9.7"
  }
 },
 "nbformat": 4,
 "nbformat_minor": 1
}
