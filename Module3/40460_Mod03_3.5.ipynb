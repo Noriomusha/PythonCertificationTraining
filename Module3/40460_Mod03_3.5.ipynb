{
 "cells": [
  {
   "cell_type": "markdown",
   "metadata": {},
   "source": [
    "# Section 3.5  \n",
    "## Conditionals, Type, and Mathematics Extended\n",
    "- Conditionals: `elif`  \n",
    "- Casting   \n",
    "- **Basic math operators**  \n",
    "\n",
    "-----\n",
    "\n",
    "### Student will be able to\n",
    "- Code more than two choices using `elif`  \n",
    "- Gather numeric input using type casting   \n",
    "- **Perform subtraction, multiplication and division operations in code** \n"
   ]
  },
  {
   "cell_type": "markdown",
   "metadata": {
    "collapsed": true
   },
   "source": [
    "## Concept: Basic Math Operators\n",
    "### `+` addition\n",
    "### `-` subtraction\n",
    "### `*` multiplication\n",
    "### `/` division  \n",
    "[[view video]]( http://edxinteractivepage.blob.core.windows.net/edxpages/f7cff1a7-5601-48a1-95a6-fd1fdfabd20e.html?details=[{\"src\":\"http://jupyternootbookwams.streaming.mediaservices.windows.net/5bc97f7e-3015-4178-ac20-371a5302def1/Unit1_Section5.2-Math-operators.ism/manifest\",\"type\":\"application/vnd.ms-sstr+xml\"}],[{\"src\":\"http://jupyternootbookwams.streaming.mediaservices.windows.net/5bc97f7e-3015-4178-ac20-371a5302def1/Unit1_Section5.2-Math-operators.vtt\",\"srclang\":\"en\",\"kind\":\"subtitles\",\"label\":\"english\"}])"
   ]
  },
  {
   "cell_type": "markdown",
   "metadata": {
    "collapsed": true
   },
   "source": [
    "### Examples"
   ]
  },
  {
   "cell_type": "code",
   "execution_count": 1,
   "metadata": {},
   "outputs": [
    {
     "name": "stdout",
     "output_type": "stream",
     "text": [
      "3 + 5 = 8\n",
      "3 + 5 - 9 = -1\n",
      "48/9 = 5.333333333333333\n",
      "5*5 = 25\n",
      "(14 - 8)*(19/4) = 28.5\n"
     ]
    }
   ],
   "source": [
    "# [ ] review and run example\n",
    "print(\"3 + 5 =\",3 + 5)\n",
    "print(\"3 + 5 - 9 =\", 3 + 5 - 9)\n",
    "print(\"48/9 =\", 48/9)\n",
    "print(\"5*5 =\", 5*5)\n",
    "print(\"(14 - 8)*(19/4) =\", (14 - 8)*(19/4))"
   ]
  },
  {
   "cell_type": "code",
   "execution_count": 1,
   "metadata": {},
   "outputs": [
    {
     "name": "stdout",
     "output_type": "stream",
     "text": [
      "enter a non-decimal number you wish were bigger: 1\n",
      "Now you have 1000000\n"
     ]
    }
   ],
   "source": [
    "# [ ] review and run example - 'million_maker'\n",
    "def million_maker():\n",
    "    make_big = input(\"enter a non-decimal number you wish were bigger: \")\n",
    "    return int(make_big)*1000000\n",
    "\n",
    "print(\"Now you have\", million_maker())\n"
   ]
  },
  {
   "cell_type": "markdown",
   "metadata": {},
   "source": [
    "## Task 1: Use math operators to solve the set of tasks below"
   ]
  },
  {
   "cell_type": "code",
   "execution_count": 2,
   "metadata": {},
   "outputs": [
    {
     "name": "stdout",
     "output_type": "stream",
     "text": [
      "-28\n"
     ]
    }
   ],
   "source": [
    "# [ ] print the result of subtracting 15 from 43\n",
    "print(15-43)\n"
   ]
  },
  {
   "cell_type": "code",
   "execution_count": 3,
   "metadata": {},
   "outputs": [
    {
     "name": "stdout",
     "output_type": "stream",
     "text": [
      "645\n"
     ]
    }
   ],
   "source": [
    "# [ ] print the result of multiplying 15 and 43\n",
    "print(15*43)\n"
   ]
  },
  {
   "cell_type": "code",
   "execution_count": 4,
   "metadata": {},
   "outputs": [
    {
     "name": "stdout",
     "output_type": "stream",
     "text": [
      "13.0\n"
     ]
    }
   ],
   "source": [
    "# [ ] print the result of dividing 156 by 12\n",
    "\n",
    "print(156/12)"
   ]
  },
  {
   "cell_type": "code",
   "execution_count": 6,
   "metadata": {},
   "outputs": [
    {
     "name": "stdout",
     "output_type": "stream",
     "text": [
      "42.0\n"
     ]
    }
   ],
   "source": [
    "# [ ] print the result of dividing 21 by 0.5\n",
    "\n",
    "print(21/.5)"
   ]
  },
  {
   "cell_type": "code",
   "execution_count": 7,
   "metadata": {},
   "outputs": [
    {
     "name": "stdout",
     "output_type": "stream",
     "text": [
      "150\n"
     ]
    }
   ],
   "source": [
    "# [ ] print the result of adding 111 plus 84 and then subtracting 45\n",
    "print(111+84-45)\n"
   ]
  },
  {
   "cell_type": "code",
   "execution_count": 9,
   "metadata": {},
   "outputs": [
    {
     "name": "stdout",
     "output_type": "stream",
     "text": [
      "100\n"
     ]
    }
   ],
   "source": [
    "# [ ] print the result of adding 21 and 4 and then multiplying that sum by 4\n",
    "\n",
    "print((21+4)*4)"
   ]
  },
  {
   "cell_type": "markdown",
   "metadata": {
    "collapsed": true
   },
   "source": [
    "## Task 2: Multiplying calculator function\n",
    "- Define function **`multiply()`**, and within the function:\n",
    "  - Get user input() of two *strings* made of whole numbers\n",
    "  - Cast the input to **`int()`**\n",
    "  - Multiply the integers and **return** the equation with result as a **`str()`**\n",
    "    - **return** example \n",
    "     ```python\n",
    "     9 * 13 = 117\n",
    "     ```"
   ]
  },
  {
   "cell_type": "code",
   "execution_count": 12,
   "metadata": {},
   "outputs": [
    {
     "name": "stdout",
     "output_type": "stream",
     "text": [
      "Please enter the first number: 5\n",
      "Please enter the second number: 4\n"
     ]
    },
    {
     "data": {
      "text/plain": [
       "'20'"
      ]
     },
     "execution_count": 12,
     "metadata": {},
     "output_type": "execute_result"
    }
   ],
   "source": [
    "# [ ] create and test multiply() function\n",
    "num1 = 0\n",
    "num2 = 0\n",
    "def multiply(num1, num2):\n",
    "    num1 = int(input(\"Please enter the first number: \"))\n",
    "    num2 = int(input(\"Please enter the second number: \"))\n",
    "    multiplied_nums = str(num1 * num2)\n",
    "    return multiplied_nums\n",
    "\n",
    "multiply(num1, num2)\n",
    " \n"
   ]
  },
  {
   "cell_type": "markdown",
   "metadata": {
    "collapsed": true
   },
   "source": [
    "## Task 3: Improved multiplying calculator function\n",
    "### Putting together conditionals, input casting and math\n",
    "- #### Update the multiply() function to multiply or divide \n",
    "  - Single parameter is **`operator`** with arguments of **`*`** or **`/`** operator\n",
    "  - Default operator is \"*\" (multiply)\n",
    "  - **Return** the result of multiplication or division\n",
    "  - If operator other than **`\"*\"`** or **`\"/\"`**  then **` return \"Invalid Operator\"`**"
   ]
  },
  {
   "cell_type": "code",
   "execution_count": 3,
   "metadata": {},
   "outputs": [
    {
     "name": "stdout",
     "output_type": "stream",
     "text": [
      "Please enter the first number: 5\n",
      "Please enter the second number: 12\n",
      "Do you want to multiply or divide? cheeto\n",
      "Invalid operation, Please choose between multiply and divide. \n"
     ]
    },
    {
     "data": {
      "text/plain": [
       "'Invalid operator'"
      ]
     },
     "execution_count": 3,
     "metadata": {},
     "output_type": "execute_result"
    }
   ],
   "source": [
    "# [ ] create improved multiply() function and test with /, no argument, and an invalid operator ($)\n",
    "\n",
    "num1 = 0\n",
    "num2 = 0\n",
    "def operation(num1, num2):\n",
    "    num1 = int(input(\"Please enter the first number: \"))\n",
    "    num2 = int(input(\"Please enter the second number: \"))\n",
    "    operation_type = input(\"Do you want to multiply or divide? \").lower()\n",
    "    if operation_type == \"multiply\":\n",
    "        operation_nums = str(num1 * num2)\n",
    "        print(num1, \"*\", num2, \"=\", operation_nums)    \n",
    "        \n",
    "    elif operation_type == \"divide\":\n",
    "        operation_nums = str(num1/num2)\n",
    "        print(num1, \"/\", num2, \"=\", operation_nums)\n",
    "    else:\n",
    "        print(\"Invalid operation, Please choose between multiply and divide. \")\n",
    "        return \"Invalid operator\"\n",
    "        \n",
    "    return operation_nums\n",
    "\n",
    "operation(num1, num2)\n",
    " \n"
   ]
  },
  {
   "cell_type": "markdown",
   "metadata": {},
   "source": [
    "## Task 4: Fix the errors"
   ]
  },
  {
   "cell_type": "code",
   "execution_count": 4,
   "metadata": {},
   "outputs": [
    {
     "name": "stdout",
     "output_type": "stream",
     "text": [
      "enter name: q\n",
      "Q please wait for students with names staring with 'F' and 'G' to go first today.\n"
     ]
    }
   ],
   "source": [
    "# Review, run, fix \n",
    "student_name = input(\"enter name: \").capitalize()\n",
    "if student_name.startswith(\"F\"):\n",
    "    print(student_name,\"Congratulations, names starting with 'F' get to go first today!\")\n",
    "elif student_name.startswith(\"G\"):\n",
    "    print(student_name,\"Congratulations, names starting with 'G' get to go second today!\")\n",
    "else:\n",
    "    print(student_name, \"please wait for students with names staring with 'F' and 'G' to go first today.\")\n",
    "\n"
   ]
  },
  {
   "cell_type": "markdown",
   "metadata": {
    "collapsed": true
   },
   "source": [
    "[Terms of use](http://go.microsoft.com/fwlink/?LinkID=206977) &nbsp; [Privacy & cookies](https://go.microsoft.com/fwlink/?LinkId=521839) &nbsp; © 2017 Microsoft"
   ]
  }
 ],
 "metadata": {
  "anaconda-cloud": {},
  "kernelspec": {
   "display_name": "Python 3 (ipykernel)",
   "language": "python",
   "name": "python3"
  },
  "language_info": {
   "codemirror_mode": {
    "name": "ipython",
    "version": 3
   },
   "file_extension": ".py",
   "mimetype": "text/x-python",
   "name": "python",
   "nbconvert_exporter": "python",
   "pygments_lexer": "ipython3",
   "version": "3.9.7"
  }
 },
 "nbformat": 4,
 "nbformat_minor": 1
}
