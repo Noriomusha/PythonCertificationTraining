{
 "cells": [
  {
   "cell_type": "markdown",
   "metadata": {},
   "source": [
    "# Section 4.3\n",
    "## `while()` Loops and Incrementing\n",
    "- **while `True`  or forever loops**\n",
    "- **Incrementing in loops**\n",
    "- Boolean operators in while loops\n",
    "\n",
    "-----\n",
    "\n",
    "### Student will be able to\n",
    "- **Create forever loops using `while` and `break`**\n",
    "- **Use incrementing variables in a while loop**\n",
    "- Control while loops using Boolean operators"
   ]
  },
  {
   "cell_type": "markdown",
   "metadata": {},
   "source": [
    "## Concept: `while True:` Loop\n",
    "### Using the 'while True:' loop\n",
    "[[view video]]( http://edxinteractivepage.blob.core.windows.net/edxpages/f7cff1a7-5601-48a1-95a6-fd1fdfabd20e.html?details=[{\"src\":\"http://jupyternootbookwams.streaming.mediaservices.windows.net/f43862cd-7cdc-45a3-adb1-a07dcbd9ae16/Unit1_Section7.1-while-forever.ism/manifest\",\"type\":\"application/vnd.ms-sstr+xml\"}],[{\"src\":\"http://jupyternootbookwams.streaming.mediaservices.windows.net/f43862cd-7cdc-45a3-adb1-a07dcbd9ae16/Unit1_Section7.1-while-forever.vtt\",\"srclang\":\"en\",\"kind\":\"subtitles\",\"label\":\"english\"}])\n",
    "**`while True:`** is known as the **forever loop** because it ...loops forever  \n",
    "\n",
    "Using the **`while True:`** statement results in a loop that continues to run forever   \n",
    "...or, until the loop is interrupted, such as with a **`break`** statement.  \n",
    "\n",
    "## `break`\n",
    "### in a `while` loop, causes code flow to exit the loop  \n",
    "a **conditional** can implement **`break`** to exit a **`while True`** loop  "
   ]
  },
  {
   "cell_type": "markdown",
   "metadata": {},
   "source": [
    "### Examples\n",
    "#### `while True` loops forever unless a `break` statement is used  "
   ]
  },
  {
   "cell_type": "code",
   "execution_count": 1,
   "metadata": {},
   "outputs": [
    {
     "name": "stdout",
     "output_type": "stream",
     "text": [
      "write forever, unless there is a \"break\"\n"
     ]
    }
   ],
   "source": [
    "# Review and run code\n",
    "# this example never loops because the break has no conditions\n",
    "while True:\n",
    "    print('write forever, unless there is a \"break\"')\n",
    "    break"
   ]
  },
  {
   "cell_type": "code",
   "execution_count": 2,
   "metadata": {},
   "outputs": [
    {
     "name": "stdout",
     "output_type": "stream",
     "text": [
      "guess the number 1 to 5: 1\n",
      "1 is incorrect\n",
      "\n",
      "guess the number 1 to 5: 2\n",
      "2 is incorrect\n",
      "\n",
      "guess the number 1 to 5: 5\n",
      "Yes 5 is correct!\n",
      "\n"
     ]
    }
   ],
   "source": [
    "# [ ] review the NUMBER GUESS code then run - Q. what cause the break statement to run?\n",
    "number_guess = \"0\"\n",
    "secret_number = \"5\"\n",
    "\n",
    "while True:\n",
    "    number_guess = input(\"guess the number 1 to 5: \")\n",
    "    if number_guess == secret_number:\n",
    "        print(\"Yes\", number_guess,\"is correct!\\n\")\n",
    "        break\n",
    "    else:\n",
    "        print(number_guess,\"is incorrect\\n\")"
   ]
  },
  {
   "cell_type": "code",
   "execution_count": 3,
   "metadata": {},
   "outputs": [
    {
     "name": "stdout",
     "output_type": "stream",
     "text": [
      "Enter weather (sunny, rainy, snowy, or quit): toast\n",
      "\n",
      "Sorry, not sure what to suggest for toast\n",
      "\n",
      "Enter weather (sunny, rainy, snowy, or quit): sunny\n",
      "\n",
      "Wear a t-shirt and sunscreen\n"
     ]
    }
   ],
   "source": [
    "# [ ] review WHAT TO WEAR code then run testing different inputs\n",
    "while True:\n",
    "    weather = input(\"Enter weather (sunny, rainy, snowy, or quit): \") \n",
    "    print()\n",
    "\n",
    "    if weather.lower() == \"sunny\":\n",
    "        print(\"Wear a t-shirt and sunscreen\")\n",
    "        break\n",
    "    elif weather.lower() == \"rainy\":\n",
    "        print(\"Bring an umbrella and boots\")\n",
    "        break\n",
    "    elif weather.lower() == \"snowy\":\n",
    "        print(\"Wear a warm coat and hat\")\n",
    "        break\n",
    "    elif weather.lower().startswith(\"q\"):\n",
    "        print('\"quit\" detected, exiting')\n",
    "        break\n",
    "    else:\n",
    "        print(\"Sorry, not sure what to suggest for\", weather +\"\\n\")"
   ]
  },
  {
   "cell_type": "markdown",
   "metadata": {},
   "source": [
    "## Task 1: `while True` \n",
    "### [ ] Program: Get a name forever ...or until done\n",
    "- create variable, familar_name, and assign it an empty string (**`\"\"`**)\n",
    "- use **`while True:`**\n",
    "- ask for user input for familar_name (common name friends/family use) \n",
    "- keep asking until given a non-blank/non-space alphabetical name is received (Hint: Boolean string test)\n",
    "- break loop and print a greeting using familar_name"
   ]
  },
  {
   "cell_type": "code",
   "execution_count": null,
   "metadata": {},
   "outputs": [
    {
     "name": "stdout",
     "output_type": "stream",
     "text": [
      "Please enter a name. 0\n",
      "\n",
      "You've entered a non alphabetical name. Please re-enter a name\n"
     ]
    }
   ],
   "source": [
    "# [ ] create Get Name program\n",
    "\n",
    "familiar_name = \"\"\n",
    "\n",
    "while True:\n",
    "    familiar_name = input(\"Please enter a name. \")\n",
    "    print()\n",
    "    \n",
    "    if familiar_name.isalpha() == True:\n",
    "        print(\"Greetings\", familiar_name + \"!\")\n",
    "        break\n",
    "    else:\n",
    "        print(\"You've entered a non alphabetical name. Please re-enter a name\")"
   ]
  },
  {
   "cell_type": "markdown",
   "metadata": {
    "collapsed": true
   },
   "source": [
    "## Concept: Variable Increment\n",
    "### Incrementing a variable\n",
    "[[view video]]( http://edxinteractivepage.blob.core.windows.net/edxpages/f7cff1a7-5601-48a1-95a6-fd1fdfabd20e.html?details=[{\"src\":\"http://jupyternootbookwams.streaming.mediaservices.windows.net/188da429-ec3b-4302-8a9b-be513a073bb5/Unit1_Section7.1-increment.ism/manifest\",\"type\":\"application/vnd.ms-sstr+xml\"}],[{\"src\":\"http://jupyternootbookwams.streaming.mediaservices.windows.net/188da429-ec3b-4302-8a9b-be513a073bb5/Unit1_Section7.1-increment.vtt\",\"srclang\":\"en\",\"kind\":\"subtitles\",\"label\":\"english\"}])\n",
    "### Incrementing\n",
    "#### `votes = votes + 1` &nbsp; &nbsp; or &nbsp;  `votes += 1`\n",
    "\n",
    "### Decrementing \n",
    "#### `votes = votes - 1` &nbsp; &nbsp; or &nbsp; `votes -= 1`"
   ]
  },
  {
   "cell_type": "markdown",
   "metadata": {},
   "source": [
    "### Examples\n",
    "  \n"
   ]
  },
  {
   "cell_type": "code",
   "execution_count": 1,
   "metadata": {},
   "outputs": [
    {
     "name": "stdout",
     "output_type": "stream",
     "text": [
      "3\n",
      "4\n",
      "6\n"
     ]
    }
   ],
   "source": [
    "# [ ] review and run example\n",
    "votes = 3\n",
    "print(votes)\n",
    "\n",
    "votes = votes + 1\n",
    "print(votes)\n",
    "\n",
    "votes += 2\n",
    "print(votes)"
   ]
  },
  {
   "cell_type": "code",
   "execution_count": 2,
   "metadata": {},
   "outputs": [
    {
     "name": "stdout",
     "output_type": "stream",
     "text": [
      "6\n",
      "5\n"
     ]
    }
   ],
   "source": [
    "print(votes)\n",
    "\n",
    "votes -= 1\n",
    "print(votes)"
   ]
  },
  {
   "cell_type": "code",
   "execution_count": 3,
   "metadata": {},
   "outputs": [
    {
     "name": "stdout",
     "output_type": "stream",
     "text": [
      "seat count: 0\n",
      "seat count: 1\n",
      "seat count: 2\n",
      "seat count: 3\n",
      "seat count: 4\n"
     ]
    }
   ],
   "source": [
    "# [ ] review the SEAT COUNT code then run \n",
    "\n",
    "seat_count = 0\n",
    "while True:\n",
    "    print(\"seat count:\",seat_count)\n",
    "    seat_count = seat_count + 1\n",
    "\n",
    "    if seat_count > 4:\n",
    "        break"
   ]
  },
  {
   "cell_type": "code",
   "execution_count": 4,
   "metadata": {},
   "outputs": [
    {
     "name": "stdout",
     "output_type": "stream",
     "text": [
      "enter seat type of \"hard\",\"soft\" or \"exit\" (to finish): edward\n",
      "\n",
      "0 Seats Total:  0 hard and 0 soft\n"
     ]
    }
   ],
   "source": [
    "# [ ] review the SEAT TYPE COUNT code then run entering: hard, soft, medium and exit\n",
    "\n",
    "# initialize variables\n",
    "seat_count = 0\n",
    "soft_seats = 0\n",
    "hard_seats = 0\n",
    "num_seats = 4\n",
    "\n",
    "# loops tallying seats using soft pads vs hard, until seats full or user \"exits\"\n",
    "while True:\n",
    "    seat_type = input('enter seat type of \"hard\",\"soft\" or \"exit\" (to finish): ')\n",
    "    \n",
    "    if seat_type.lower().startswith(\"e\"):\n",
    "        print()\n",
    "        break\n",
    "    elif seat_type.lower() == \"hard\":\n",
    "        hard_seats += 1\n",
    "    elif seat_type.lower() == \"soft\":\n",
    "        soft_seats += 1\n",
    "    else:\n",
    "        print(\"invalid entry: counted as hard\")\n",
    "        hard_seats += 1  \n",
    "    seat_count += 1\n",
    "    if seat_count >= num_seats:\n",
    "        print(\"\\nseats are full\")\n",
    "        break\n",
    "        \n",
    "print(seat_count,\"Seats Total: \",hard_seats,\"hard and\",soft_seats,\"soft\" )"
   ]
  },
  {
   "cell_type": "markdown",
   "metadata": {},
   "source": [
    "## Task 2: Incrementing in a `while()` loop\n",
    "### Program: Shirt Count\n",
    "- Enter a sizes (S, M, L)\n",
    "- Tally the count of each size\n",
    "- Input \"exit\" when finished\n",
    "- Report out the purchase of each shirt size  \n"
   ]
  },
  {
   "cell_type": "code",
   "execution_count": 7,
   "metadata": {},
   "outputs": [
    {
     "name": "stdout",
     "output_type": "stream",
     "text": [
      "Enter shirt type of \"small\", \"medium\", \"large\" or \"exit\" (to finish): small\n",
      "Enter shirt type of \"small\", \"medium\", \"large\" or \"exit\" (to finish): medium\n",
      "Enter shirt type of \"small\", \"medium\", \"large\" or \"exit\" (to finish): large\n",
      "Enter shirt type of \"small\", \"medium\", \"large\" or \"exit\" (to finish): lo\n",
      "invalid entry: counted as medium\n",
      "Enter shirt type of \"small\", \"medium\", \"large\" or \"exit\" (to finish): dog\n",
      "invalid entry: counted as medium\n",
      "\n",
      "Shirts are sold out!\n",
      "5 Shirt Total: 1 small,  3 medium 1 large shirts\n"
     ]
    }
   ],
   "source": [
    "# [ ] Create the Shirt Count program, run tests\n",
    "# initialize variables\n",
    "small = 0\n",
    "medium = 0\n",
    "large = 0\n",
    "total_shirts = 5\n",
    "shirt_count = 0\n",
    "\n",
    "\n",
    "while True:\n",
    "    shirt_type = input('Enter shirt type of \"small\", \"medium\", \"large\" or \"exit\" (to finish): ')\n",
    "    \n",
    "    if shirt_type.lower().startswith(\"e\"):\n",
    "        print()\n",
    "        break\n",
    "    elif shirt_type.lower() == \"small\":\n",
    "        small += 1\n",
    "    elif shirt_type.lower() == \"medium\":\n",
    "        medium += 1\n",
    "    elif shirt_type.lower() == \"large\":\n",
    "        large += 1\n",
    "    else:\n",
    "        print(\"invalid entry: counted as medium\")\n",
    "        medium += 1  \n",
    "    shirt_count += 1\n",
    "    if shirt_count >= total_shirts:\n",
    "        print(\"\\nShirts are sold out!\")\n",
    "        break\n",
    "        \n",
    "print(total_shirts,\"Shirt Total:\",small,\"small, \",medium,\"medium\",large,\"large shirts\" )\n"
   ]
  },
  {
   "cell_type": "markdown",
   "metadata": {},
   "source": [
    "### Challenge: Shirt Register\n",
    "Update the **Shirt Count** program to calculate cost\n",
    "- Use shirt cost (S = 6, M = 7, L = 8)\n",
    "- To calculate and report the subtotal cost for each size \n",
    "- To calculate and report the total cost of all shirts"
   ]
  },
  {
   "cell_type": "code",
   "execution_count": 10,
   "metadata": {},
   "outputs": [
    {
     "name": "stdout",
     "output_type": "stream",
     "text": [
      "Enter shirt type of \"small\", \"medium\", \"large\" or \"exit\" (to finish): large\n",
      "Enter shirt type of \"small\", \"medium\", \"large\" or \"exit\" (to finish): large\n",
      "Enter shirt type of \"small\", \"medium\", \"large\" or \"exit\" (to finish): large\n",
      "Enter shirt type of \"small\", \"medium\", \"large\" or \"exit\" (to finish): small\n",
      "Enter shirt type of \"small\", \"medium\", \"large\" or \"exit\" (to finish): small\n",
      "\n",
      "Shirts are sold out!\n",
      "5 Shirt Total: 2 small,  0 medium 3 large shirts\n",
      "Shirt costs: Small- $ 12 Medium- $ 0 Large- $ 24 Total Costs: $ 36\n"
     ]
    }
   ],
   "source": [
    "# [ ] Create the Shirt Count program, run tests\n",
    "# initialize variables\n",
    "small = 0\n",
    "medium = 0\n",
    "large = 0\n",
    "total_shirts = 5\n",
    "shirt_count = 0\n",
    "total_costs = (small*6) + (medium*7) + (large*8)\n",
    "\n",
    "while True:\n",
    "    shirt_type = input('Enter shirt type of \"small\", \"medium\", \"large\" or \"exit\" (to finish): ')\n",
    "    \n",
    "    if shirt_type.lower().startswith(\"e\"):\n",
    "        print()\n",
    "        break\n",
    "    elif shirt_type.lower() == \"small\":\n",
    "        small += 1\n",
    "    elif shirt_type.lower() == \"medium\":\n",
    "        medium += 1\n",
    "    elif shirt_type.lower() == \"large\":\n",
    "        large += 1\n",
    "    else:\n",
    "        print(\"invalid entry: counted as medium\")\n",
    "        medium += 1  \n",
    "    shirt_count += 1\n",
    "    if shirt_count >= total_shirts:\n",
    "        print(\"\\nShirts are sold out!\")\n",
    "        break\n",
    "        \n",
    "print(total_shirts,\"Shirt Total:\",small,\"small, \",medium,\"medium\",large,\"large shirts\" )\n",
    "print(\"Shirt costs: Small- $\", small*6,\"Medium- $\", medium*7, \"Large- $\", large*8, \"Total Costs: $\", (small*6) + (medium*7) + (large*8))\n"
   ]
  },
  {
   "cell_type": "markdown",
   "metadata": {},
   "source": [
    "[Terms of use](http://go.microsoft.com/fwlink/?LinkID=206977) &nbsp; [Privacy & cookies](https://go.microsoft.com/fwlink/?LinkId=521839) &nbsp; © 2017 Microsoft"
   ]
  }
 ],
 "metadata": {
  "anaconda-cloud": {},
  "kernelspec": {
   "display_name": "Python 3 (ipykernel)",
   "language": "python",
   "name": "python3"
  },
  "language_info": {
   "codemirror_mode": {
    "name": "ipython",
    "version": 3
   },
   "file_extension": ".py",
   "mimetype": "text/x-python",
   "name": "python",
   "nbconvert_exporter": "python",
   "pygments_lexer": "ipython3",
   "version": "3.9.7"
  }
 },
 "nbformat": 4,
 "nbformat_minor": 1
}
